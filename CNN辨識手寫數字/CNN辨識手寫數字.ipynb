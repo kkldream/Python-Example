{
  "cells": [
    {
      "cell_type": "code",
      "execution_count": 5,
      "metadata": {},
      "outputs": [
        {
          "name": "stdout",
          "output_type": "stream",
          "text": [
            "Collecting absl-py==0.13.0\n",
            "  Downloading absl_py-0.13.0-py3-none-any.whl (132 kB)\n",
            "     |████████████████████████████████| 132 kB 313 kB/s            \n",
            "\u001b[?25hRequirement already satisfied: astor==0.8.1 in ./jupyter_env/lib/python3.6/site-packages (from -r requirements.txt (line 2)) (0.8.1)\n",
            "Collecting attrs==21.2.0\n",
            "  Downloading attrs-21.2.0-py2.py3-none-any.whl (53 kB)\n",
            "     |████████████████████████████████| 53 kB 1.6 MB/s            \n",
            "\u001b[?25hRequirement already satisfied: backcall==0.2.0 in ./jupyter_env/lib/python3.6/site-packages (from -r requirements.txt (line 4)) (0.2.0)\n",
            "Requirement already satisfied: bleach==1.5.0 in ./jupyter_env/lib/python3.6/site-packages (from -r requirements.txt (line 5)) (1.5.0)\n",
            "Requirement already satisfied: cached-property==1.5.2 in ./jupyter_env/lib/python3.6/site-packages (from -r requirements.txt (line 6)) (1.5.2)\n",
            "Collecting certifi==2021.5.30\n",
            "  Downloading certifi-2021.5.30-py2.py3-none-any.whl (145 kB)\n",
            "     |████████████████████████████████| 145 kB 1.7 MB/s            \n",
            "\u001b[?25hCollecting click==8.0.1\n",
            "  Downloading click-8.0.1-py3-none-any.whl (97 kB)\n",
            "     |████████████████████████████████| 97 kB 3.6 MB/s            \n",
            "\u001b[?25hCollecting cmake==3.21.2\n",
            "  Downloading cmake-3.21.2-py2.py3-none-manylinux_2_12_x86_64.manylinux2010_x86_64.whl (20.3 MB)\n",
            "     |████████████████████████████████| 20.3 MB 8.5 MB/s            \n",
            "\u001b[?25hCollecting colorama==0.4.4\n",
            "  Downloading colorama-0.4.4-py2.py3-none-any.whl (16 kB)\n",
            "Requirement already satisfied: cycler==0.10.0 in ./jupyter_env/lib/python3.6/site-packages (from -r requirements.txt (line 11)) (0.10.0)\n",
            "Requirement already satisfied: dataclasses==0.8 in ./jupyter_env/lib/python3.6/site-packages (from -r requirements.txt (line 12)) (0.8)\n",
            "Collecting decorator==5.1.0\n",
            "  Downloading decorator-5.1.0-py3-none-any.whl (9.1 kB)\n",
            "Collecting dlib==19.22.1\n",
            "  Downloading dlib-19.22.1.tar.gz (7.4 MB)\n",
            "     |████████████████████████████████| 7.4 MB 39.7 MB/s            \n",
            "\u001b[?25h  Preparing metadata (setup.py) ... \u001b[?25ldone\n",
            "\u001b[?25hRequirement already satisfied: entrypoints==0.3 in ./jupyter_env/lib/python3.6/site-packages (from -r requirements.txt (line 15)) (0.3)\n",
            "Collecting face-recognition==1.3.0\n",
            "  Downloading face_recognition-1.3.0-py2.py3-none-any.whl (15 kB)\n",
            "Collecting face-recognition-models==0.3.0\n",
            "  Downloading face_recognition_models-0.3.0.tar.gz (100.1 MB)\n",
            "     |████████████████████████████████| 100.1 MB 13.1 MB/s            \n",
            "\u001b[?25h  Preparing metadata (setup.py) ... \u001b[?25ldone\n",
            "\u001b[?25hCollecting gast==0.5.2\n",
            "  Downloading gast-0.5.2-py3-none-any.whl (10 kB)\n",
            "Collecting grpcio==1.39.0\n",
            "  Downloading grpcio-1.39.0-cp36-cp36m-manylinux2014_x86_64.whl (4.3 MB)\n",
            "     |████████████████████████████████| 4.3 MB 12.8 MB/s            \n",
            "\u001b[?25hCollecting h5py==2.10.0\n",
            "  Downloading h5py-2.10.0-cp36-cp36m-manylinux1_x86_64.whl (2.9 MB)\n",
            "     |████████████████████████████████| 2.9 MB 15.9 MB/s            \n",
            "\u001b[?25hRequirement already satisfied: html5lib==0.9999999 in ./jupyter_env/lib/python3.6/site-packages (from -r requirements.txt (line 21)) (0.9999999)\n",
            "Collecting importlib-metadata==4.7.0\n",
            "  Downloading importlib_metadata-4.7.0-py3-none-any.whl (17 kB)\n",
            "Collecting imutils==0.5.4\n",
            "  Downloading imutils-0.5.4.tar.gz (17 kB)\n",
            "  Preparing metadata (setup.py) ... \u001b[?25ldone\n",
            "\u001b[?25hCollecting ipykernel==5.5.6\n",
            "  Downloading ipykernel-5.5.6-py3-none-any.whl (121 kB)\n",
            "     |████████████████████████████████| 121 kB 30.7 MB/s            \n",
            "\u001b[?25hRequirement already satisfied: ipython==7.16.1 in ./jupyter_env/lib/python3.6/site-packages (from -r requirements.txt (line 25)) (7.16.1)\n",
            "Requirement already satisfied: ipython-genutils==0.2.0 in ./jupyter_env/lib/python3.6/site-packages (from -r requirements.txt (line 26)) (0.2.0)\n",
            "Requirement already satisfied: jedi==0.18.0 in ./jupyter_env/lib/python3.6/site-packages (from -r requirements.txt (line 27)) (0.18.0)\n",
            "Collecting jupyter-client==7.0.6\n",
            "  Downloading jupyter_client-7.0.6-py3-none-any.whl (125 kB)\n",
            "     |████████████████████████████████| 125 kB 36.8 MB/s            \n",
            "\u001b[?25hCollecting jupyter-core==4.9.1\n",
            "  Downloading jupyter_core-4.9.1-py3-none-any.whl (86 kB)\n",
            "     |████████████████████████████████| 86 kB 8.7 MB/s             \n",
            "\u001b[?25hCollecting Keras==2.1.6\n",
            "  Downloading Keras-2.1.6-py2.py3-none-any.whl (339 kB)\n",
            "     |████████████████████████████████| 339 kB 22.4 MB/s            \n",
            "\u001b[?25hRequirement already satisfied: kiwisolver==1.3.1 in ./jupyter_env/lib/python3.6/site-packages (from -r requirements.txt (line 31)) (1.3.1)\n",
            "Collecting llvmlite==0.36.0\n",
            "  Downloading llvmlite-0.36.0-cp36-cp36m-manylinux2010_x86_64.whl (25.3 MB)\n",
            "     |████████████████████████████████| 25.3 MB 19.0 MB/s            \n",
            "\u001b[?25hRequirement already satisfied: Markdown==3.3.4 in ./jupyter_env/lib/python3.6/site-packages (from -r requirements.txt (line 33)) (3.3.4)\n",
            "Collecting matplotlib==3.3.4\n",
            "  Downloading matplotlib-3.3.4-cp36-cp36m-manylinux1_x86_64.whl (11.5 MB)\n",
            "     |████████████████████████████████| 11.5 MB 19.4 MB/s            \n",
            "\u001b[?25hCollecting mediapipe==0.8.3\n",
            "  Downloading mediapipe-0.8.3-cp36-cp36m-manylinux2014_x86_64.whl (67.0 MB)\n",
            "     |████████████████████████████████| 67.0 MB 24.3 MB/s            \n",
            "\u001b[?25hCollecting nest-asyncio==1.5.1\n",
            "  Downloading nest_asyncio-1.5.1-py3-none-any.whl (5.0 kB)\n",
            "Collecting numba==0.53.1\n",
            "  Downloading numba-0.53.1-cp36-cp36m-manylinux2014_x86_64.whl (3.4 MB)\n",
            "     |████████████████████████████████| 3.4 MB 14.0 MB/s            \n",
            "\u001b[?25hCollecting numpy==1.19.3\n",
            "  Downloading numpy-1.19.3-cp36-cp36m-manylinux2010_x86_64.whl (14.9 MB)\n",
            "     |████████████████████████████████| 14.9 MB 10.0 MB/s            \n",
            "\u001b[?25hCollecting opencv-python==4.5.3.56\n",
            "  Downloading opencv_python-4.5.3.56-cp36-cp36m-manylinux2014_x86_64.whl (49.9 MB)\n",
            "     |████████████████████████████████| 49.9 MB 16.2 MB/s            \n",
            "\u001b[?25hCollecting pandas==0.24.2\n",
            "  Downloading pandas-0.24.2-cp36-cp36m-manylinux1_x86_64.whl (10.1 MB)\n",
            "     |████████████████████████████████| 10.1 MB 10.0 MB/s            \n",
            "\u001b[?25hCollecting parso==0.8.2\n",
            "  Downloading parso-0.8.2-py2.py3-none-any.whl (94 kB)\n",
            "     |████████████████████████████████| 94 kB 4.8 MB/s             \n",
            "\u001b[?25hRequirement already satisfied: pickleshare==0.7.5 in ./jupyter_env/lib/python3.6/site-packages (from -r requirements.txt (line 42)) (0.7.5)\n",
            "Collecting Pillow==8.3.1\n",
            "  Downloading Pillow-8.3.1-cp36-cp36m-manylinux_2_5_x86_64.manylinux1_x86_64.whl (3.0 MB)\n",
            "     |████████████████████████████████| 3.0 MB 22.7 MB/s            \n",
            "\u001b[?25hCollecting prompt-toolkit==3.0.21\n",
            "  Downloading prompt_toolkit-3.0.21-py3-none-any.whl (374 kB)\n",
            "     |████████████████████████████████| 374 kB 25.2 MB/s            \n",
            "\u001b[?25hCollecting protobuf==3.17.3\n",
            "  Downloading protobuf-3.17.3-cp36-cp36m-manylinux_2_5_x86_64.manylinux1_x86_64.whl (1.0 MB)\n",
            "     |████████████████████████████████| 1.0 MB 21.7 MB/s            \n",
            "\u001b[?25hCollecting Pygments==2.10.0\n",
            "  Downloading Pygments-2.10.0-py3-none-any.whl (1.0 MB)\n",
            "     |████████████████████████████████| 1.0 MB 11.5 MB/s            \n",
            "\u001b[?25hRequirement already satisfied: pyparsing==2.4.7 in ./jupyter_env/lib/python3.6/site-packages (from -r requirements.txt (line 47)) (2.4.7)\n",
            "Collecting PyQt5==5.15.4\n",
            "  Downloading PyQt5-5.15.4-cp36.cp37.cp38.cp39-abi3-manylinux2014_x86_64.whl (8.3 MB)\n",
            "     |████████████████████████████████| 8.3 MB 15.6 MB/s            \n",
            "\u001b[?25hCollecting PyQt5-Qt5==5.15.2\n",
            "  Downloading PyQt5_Qt5-5.15.2-py3-none-manylinux2014_x86_64.whl (59.9 MB)\n",
            "     |████████████████████████████████| 59.9 MB 8.3 MB/s             \n",
            "\u001b[?25hCollecting PyQt5-sip==12.9.0\n",
            "  Downloading PyQt5_sip-12.9.0-cp36-cp36m-manylinux1_x86_64.whl (313 kB)\n",
            "     |████████████████████████████████| 313 kB 19.2 MB/s            \n",
            "\u001b[?25hCollecting python-dateutil==2.8.2\n",
            "  Downloading python_dateutil-2.8.2-py2.py3-none-any.whl (247 kB)\n",
            "     |████████████████████████████████| 247 kB 26.1 MB/s            \n",
            "\u001b[?25hCollecting pytz==2021.1\n",
            "  Downloading pytz-2021.1-py2.py3-none-any.whl (510 kB)\n",
            "     |████████████████████████████████| 510 kB 33.3 MB/s            \n",
            "\u001b[31mERROR: Could not find a version that satisfies the requirement pywin32==302 (from versions: none)\u001b[0m\n",
            "\u001b[31mERROR: No matching distribution found for pywin32==302\u001b[0m\n",
            "\u001b[?25h"
          ]
        }
      ],
      "source": [
        "# !pip install keras==2.3.1\n",
        "# !pip install --upgrade pip\n",
        "# !pip install tensorflow==1.8.0\n",
        "# !pip install tensorflow-gpu==1.8.0\n",
        "# !pip list\n",
        "# !pip uninstall tensorflow -y\n",
        "!pip install -r requirements.txt\n",
        "# !ls\n"
      ]
    },
    {
      "cell_type": "code",
      "execution_count": 3,
      "metadata": {},
      "outputs": [
        {
          "ename": "AttributeError",
          "evalue": "module 'tensorflow' has no attribute 'config'",
          "output_type": "error",
          "traceback": [
            "\u001b[0;31m---------------------------------------------------------------------------\u001b[0m",
            "\u001b[0;31mAttributeError\u001b[0m                            Traceback (most recent call last)",
            "\u001b[0;32m<ipython-input-3-d623ca5b8fd3>\u001b[0m in \u001b[0;36m<module>\u001b[0;34m\u001b[0m\n\u001b[1;32m      1\u001b[0m \u001b[0;32mimport\u001b[0m \u001b[0mtensorflow\u001b[0m \u001b[0;32mas\u001b[0m \u001b[0mtf\u001b[0m\u001b[0;34m\u001b[0m\u001b[0;34m\u001b[0m\u001b[0m\n\u001b[0;32m----> 2\u001b[0;31m \u001b[0mgpus\u001b[0m \u001b[0;34m=\u001b[0m \u001b[0mtf\u001b[0m\u001b[0;34m.\u001b[0m\u001b[0mconfig\u001b[0m\u001b[0;34m.\u001b[0m\u001b[0mexperimental\u001b[0m\u001b[0;34m.\u001b[0m\u001b[0mlist_physical_devices\u001b[0m\u001b[0;34m(\u001b[0m\u001b[0;34m'GPU'\u001b[0m\u001b[0;34m)\u001b[0m\u001b[0;34m\u001b[0m\u001b[0;34m\u001b[0m\u001b[0m\n\u001b[0m\u001b[1;32m      3\u001b[0m \u001b[0;32mif\u001b[0m \u001b[0mgpus\u001b[0m\u001b[0;34m:\u001b[0m\u001b[0;34m\u001b[0m\u001b[0;34m\u001b[0m\u001b[0m\n\u001b[1;32m      4\u001b[0m     \u001b[0;32mtry\u001b[0m\u001b[0;34m:\u001b[0m\u001b[0;34m\u001b[0m\u001b[0;34m\u001b[0m\u001b[0m\n\u001b[1;32m      5\u001b[0m         \u001b[0;31m# Currently, memory growth needs to be the same across GPUs\u001b[0m\u001b[0;34m\u001b[0m\u001b[0;34m\u001b[0m\u001b[0;34m\u001b[0m\u001b[0m\n",
            "\u001b[0;31mAttributeError\u001b[0m: module 'tensorflow' has no attribute 'config'"
          ]
        }
      ],
      "source": [
        "import tensorflow as tf\n",
        "gpus = tf.config.experimental.list_physical_devices('GPU')\n",
        "if gpus:\n",
        "    try:\n",
        "        # Currently, memory growth needs to be the same across GPUs\n",
        "        for gpu in gpus:\n",
        "            tf.config.experimental.set_memory_growth(gpu, True)\n",
        "        logical_gpus = tf.config.experimental.list_logical_devices('GPU')\n",
        "        print(len(gpus), \"Physical GPUs,\", len(logical_gpus), \"Logical GPUs\")\n",
        "    except RuntimeError as e:\n",
        "        # Memory growth must be set before GPUs have been initialized\n",
        "        print(e)"
      ]
    },
    {
      "cell_type": "code",
      "execution_count": 2,
      "metadata": {
        "id": "yma95es2FPzF"
      },
      "outputs": [
        {
          "ename": "ImportError",
          "evalue": "cannot import name 'keras'",
          "output_type": "error",
          "traceback": [
            "\u001b[0;31m---------------------------------------------------------------------------\u001b[0m",
            "\u001b[0;31mImportError\u001b[0m                               Traceback (most recent call last)",
            "\u001b[0;32m<ipython-input-2-4256a7a13439>\u001b[0m in \u001b[0;36m<module>\u001b[0;34m\u001b[0m\n\u001b[0;32m----> 1\u001b[0;31m \u001b[0;32mfrom\u001b[0m \u001b[0mtensorflow\u001b[0m \u001b[0;32mimport\u001b[0m \u001b[0mkeras\u001b[0m\u001b[0;34m\u001b[0m\u001b[0;34m\u001b[0m\u001b[0m\n\u001b[0m\u001b[1;32m      2\u001b[0m \u001b[0mmnist\u001b[0m \u001b[0;34m=\u001b[0m \u001b[0mkeras\u001b[0m\u001b[0;34m.\u001b[0m\u001b[0mdatasets\u001b[0m\u001b[0;34m.\u001b[0m\u001b[0mmnist\u001b[0m\u001b[0;34m\u001b[0m\u001b[0;34m\u001b[0m\u001b[0m\n\u001b[1;32m      3\u001b[0m \u001b[0;34m(\u001b[0m\u001b[0mimgTrain\u001b[0m\u001b[0;34m,\u001b[0m \u001b[0mlabelTrain\u001b[0m\u001b[0;34m)\u001b[0m\u001b[0;34m,\u001b[0m \u001b[0;34m(\u001b[0m\u001b[0mimgTest\u001b[0m\u001b[0;34m,\u001b[0m \u001b[0mlabelTest\u001b[0m\u001b[0;34m)\u001b[0m \u001b[0;34m=\u001b[0m \u001b[0mmnist\u001b[0m\u001b[0;34m.\u001b[0m\u001b[0mload_data\u001b[0m\u001b[0;34m(\u001b[0m\u001b[0;34m)\u001b[0m\u001b[0;34m\u001b[0m\u001b[0;34m\u001b[0m\u001b[0m\n",
            "\u001b[0;31mImportError\u001b[0m: cannot import name 'keras'"
          ]
        }
      ],
      "source": [
        "from tensorflow import keras\n",
        "mnist = keras.datasets.mnist\n",
        "(imgTrain, labelTrain), (imgTest, labelTest) = mnist.load_data()"
      ]
    },
    {
      "cell_type": "code",
      "execution_count": 40,
      "metadata": {
        "id": "yma95es2FPzF"
      },
      "outputs": [],
      "source": [
        "from tensorflow import keras\n",
        "(imgTrain, labelTrain), (imgTest, labelTest) = keras.datasets.mnist.load_data()"
      ]
    },
    {
      "cell_type": "code",
      "execution_count": 1,
      "metadata": {},
      "outputs": [
        {
          "name": "stderr",
          "output_type": "stream",
          "text": [
            "Using TensorFlow backend.\n",
            "/home/kk/jupyter/jupyter_env/lib/python3.6/site-packages/tensorflow/python/framework/dtypes.py:519: FutureWarning: Passing (type, 1) or '1type' as a synonym of type is deprecated; in a future version of numpy, it will be understood as (type, (1,)) / '(1,)type'.\n",
            "  _np_qint8 = np.dtype([(\"qint8\", np.int8, 1)])\n",
            "/home/kk/jupyter/jupyter_env/lib/python3.6/site-packages/tensorflow/python/framework/dtypes.py:520: FutureWarning: Passing (type, 1) or '1type' as a synonym of type is deprecated; in a future version of numpy, it will be understood as (type, (1,)) / '(1,)type'.\n",
            "  _np_quint8 = np.dtype([(\"quint8\", np.uint8, 1)])\n",
            "/home/kk/jupyter/jupyter_env/lib/python3.6/site-packages/tensorflow/python/framework/dtypes.py:521: FutureWarning: Passing (type, 1) or '1type' as a synonym of type is deprecated; in a future version of numpy, it will be understood as (type, (1,)) / '(1,)type'.\n",
            "  _np_qint16 = np.dtype([(\"qint16\", np.int16, 1)])\n",
            "/home/kk/jupyter/jupyter_env/lib/python3.6/site-packages/tensorflow/python/framework/dtypes.py:522: FutureWarning: Passing (type, 1) or '1type' as a synonym of type is deprecated; in a future version of numpy, it will be understood as (type, (1,)) / '(1,)type'.\n",
            "  _np_quint16 = np.dtype([(\"quint16\", np.uint16, 1)])\n",
            "/home/kk/jupyter/jupyter_env/lib/python3.6/site-packages/tensorflow/python/framework/dtypes.py:523: FutureWarning: Passing (type, 1) or '1type' as a synonym of type is deprecated; in a future version of numpy, it will be understood as (type, (1,)) / '(1,)type'.\n",
            "  _np_qint32 = np.dtype([(\"qint32\", np.int32, 1)])\n",
            "/home/kk/jupyter/jupyter_env/lib/python3.6/site-packages/tensorflow/python/framework/dtypes.py:528: FutureWarning: Passing (type, 1) or '1type' as a synonym of type is deprecated; in a future version of numpy, it will be understood as (type, (1,)) / '(1,)type'.\n",
            "  np_resource = np.dtype([(\"resource\", np.ubyte, 1)])\n"
          ]
        }
      ],
      "source": [
        "from keras.datasets import mnist"
      ]
    },
    {
      "cell_type": "code",
      "execution_count": 2,
      "metadata": {
        "colab": {
          "base_uri": "https://localhost:8080/"
        },
        "id": "8asr9g9uHWph",
        "outputId": "19960c02-04cc-41d5-8743-558b2f0283fd"
      },
      "outputs": [],
      "source": [
        "(imgTrain,labelTrain),(imgTest,labelTest) = mnist.load_data()"
      ]
    },
    {
      "cell_type": "code",
      "execution_count": 3,
      "metadata": {
        "colab": {
          "base_uri": "https://localhost:8080/"
        },
        "id": "TBIUnKzlHw32",
        "outputId": "7d3a0429-fce2-48f6-ae86-49dadccaa124"
      },
      "outputs": [
        {
          "name": "stdout",
          "output_type": "stream",
          "text": [
            "train img (60000, 28, 28)\n",
            "train label (60000,)\n",
            "test img (10000, 28, 28)\n",
            "test label (10000,)\n"
          ]
        }
      ],
      "source": [
        "print('train img',imgTrain.shape)\n",
        "print('train label',labelTrain.shape)\n",
        "print('test img',imgTest.shape)\n",
        "print('test label',labelTest.shape)"
      ]
    },
    {
      "cell_type": "code",
      "execution_count": 4,
      "metadata": {
        "id": "yCtgRpUYIK4H"
      },
      "outputs": [],
      "source": [
        "import matplotlib.pyplot as plt\n",
        "def plt_image(image):\n",
        "  fig = plt.gcf()\n",
        "  fig.set_size_inches(2,2)\n",
        "  plt.imshow(image,cmap='binary')\n",
        "  plt.show()"
      ]
    },
    {
      "cell_type": "code",
      "execution_count": 5,
      "metadata": {
        "colab": {
          "base_uri": "https://localhost:8080/",
          "height": 159
        },
        "id": "lYySOZuYIebu",
        "outputId": "9f919063-ccaa-4631-8f41-4fd7a3ced936"
      },
      "outputs": [
        {
          "data": {
            "image/png": "[encoded data removed]",
            "text/plain": [
              "<Figure size 144x144 with 1 Axes>"
            ]
          },
          "metadata": {
            "needs_background": "light"
          },
          "output_type": "display_data"
        }
      ],
      "source": [
        "plt_image(imgTrain[0])"
      ]
    },
    {
      "cell_type": "code",
      "execution_count": 6,
      "metadata": {
        "id": "tN53s_neImeX"
      },
      "outputs": [],
      "source": [
        "Train4D = imgTrain.reshape(imgTrain.shape[0],28,28,1).astype('float32')\n",
        "Test4D = imgTest.reshape(imgTest.shape[0],28,28,1).astype('float32')\n",
        "Train4D_normalize = Train4D / 255\n",
        "Test4D_normalize = Test4D / 255"
      ]
    },
    {
      "cell_type": "code",
      "execution_count": 7,
      "metadata": {
        "id": "eXiJhloCJcya"
      },
      "outputs": [],
      "source": [
        "from keras.utils import np_utils\n",
        "TrainOneHot = np_utils.to_categorical(labelTrain)\n",
        "TestOneHot = np_utils.to_categorical(labelTest)\n",
        "# labelTrain[:5]\n",
        "# TrainOneHot[:5]"
      ]
    },
    {
      "cell_type": "code",
      "execution_count": 8,
      "metadata": {
        "id": "Rx3R9SfULCIm"
      },
      "outputs": [],
      "source": [
        "from keras.models import Sequential\n",
        "from keras.layers import Dense,Dropout,Flatten,Conv2D,MaxPooling2D"
      ]
    },
    {
      "cell_type": "code",
      "execution_count": 9,
      "metadata": {
        "id": "1QaxY6DfLcBY"
      },
      "outputs": [],
      "source": [
        "def get_model():\n",
        "        model = Sequential()\n",
        "        model.add(Conv2D(filters=32, \n",
        "                kernel_size=(5,5),\n",
        "                padding='same',\n",
        "                input_shape=(28,28,1),\n",
        "                activation='relu'))\n",
        "        model.add(MaxPooling2D(pool_size=(2,2)))\n",
        "        model.add(Flatten())\n",
        "        model.add(Dense(1500,activation='relu'))\n",
        "        model.add(Dropout(0.5))\n",
        "        model.add(Dense(10,activation='softmax'))\n",
        "        return model"
      ]
    },
    {
      "cell_type": "code",
      "execution_count": 10,
      "metadata": {
        "colab": {
          "base_uri": "https://localhost:8080/"
        },
        "id": "IQDQNHNyM2s5",
        "outputId": "198ca096-6e3b-4157-bc14-51115dc84ed6"
      },
      "outputs": [
        {
          "name": "stdout",
          "output_type": "stream",
          "text": [
            "_________________________________________________________________\n",
            "Layer (type)                 Output Shape              Param #   \n",
            "=================================================================\n",
            "conv2d_1 (Conv2D)            (None, 28, 28, 32)        832       \n",
            "_________________________________________________________________\n",
            "max_pooling2d_1 (MaxPooling2 (None, 14, 14, 32)        0         \n",
            "_________________________________________________________________\n",
            "flatten_1 (Flatten)          (None, 6272)              0         \n",
            "_________________________________________________________________\n",
            "dense_1 (Dense)              (None, 1500)              9409500   \n",
            "_________________________________________________________________\n",
            "dropout_1 (Dropout)          (None, 1500)              0         \n",
            "_________________________________________________________________\n",
            "dense_2 (Dense)              (None, 10)                15010     \n",
            "=================================================================\n",
            "Total params: 9,425,342\n",
            "Trainable params: 9,425,342\n",
            "Non-trainable params: 0\n",
            "_________________________________________________________________\n",
            "None\n"
          ]
        }
      ],
      "source": [
        "model = get_model()\n",
        "print(model.summary())"
      ]
    },
    {
      "cell_type": "code",
      "execution_count": 11,
      "metadata": {
        "id": "v_dGFZXjNCB5"
      },
      "outputs": [],
      "source": [
        "model.compile(loss='categorical_crossentropy',\n",
        "      optimizer='adam',metrics=['accuracy'])"
      ]
    },
    {
      "cell_type": "code",
      "execution_count": 12,
      "metadata": {
        "colab": {
          "background_save": true,
          "base_uri": "https://localhost:8080/"
        },
        "id": "1RvTVocLNa3p",
        "outputId": "b3ed4ad7-4bb2-4427-acb5-0f63f3a1fda5"
      },
      "outputs": [
        {
          "name": "stdout",
          "output_type": "stream",
          "text": [
            "Train on 48000 samples, validate on 12000 samples\n",
            "Epoch 1/10\n",
            "48000/48000 [==============================] - 14s 299us/step - loss: 0.3066 - acc: 0.9078 - val_loss: 0.1020 - val_acc: 0.9704\n",
            "Epoch 2/10\n",
            "48000/48000 [==============================] - 14s 294us/step - loss: 0.0873 - acc: 0.9741 - val_loss: 0.0603 - val_acc: 0.9828\n",
            "Epoch 3/10\n",
            "48000/48000 [==============================] - 14s 288us/step - loss: 0.0542 - acc: 0.9838 - val_loss: 0.0508 - val_acc: 0.9848\n",
            "Epoch 4/10\n",
            "48000/48000 [==============================] - 14s 290us/step - loss: 0.0412 - acc: 0.9878 - val_loss: 0.0435 - val_acc: 0.9868\n",
            "Epoch 5/10\n",
            "48000/48000 [==============================] - 14s 286us/step - loss: 0.0315 - acc: 0.9901 - val_loss: 0.0478 - val_acc: 0.9860\n",
            "Epoch 6/10\n",
            "48000/48000 [==============================] - 14s 290us/step - loss: 0.0266 - acc: 0.9915 - val_loss: 0.0389 - val_acc: 0.9888\n",
            "Epoch 7/10\n",
            "48000/48000 [==============================] - 14s 290us/step - loss: 0.0220 - acc: 0.9927 - val_loss: 0.0425 - val_acc: 0.9868\n",
            "Epoch 8/10\n",
            "48000/48000 [==============================] - 14s 287us/step - loss: 0.0177 - acc: 0.9946 - val_loss: 0.0378 - val_acc: 0.9885\n",
            "Epoch 9/10\n",
            "48000/48000 [==============================] - 14s 289us/step - loss: 0.0143 - acc: 0.9958 - val_loss: 0.0386 - val_acc: 0.9888\n",
            "Epoch 10/10\n",
            "48000/48000 [==============================] - 14s 291us/step - loss: 0.0123 - acc: 0.9963 - val_loss: 0.0396 - val_acc: 0.9887\n"
          ]
        }
      ],
      "source": [
        "trainHistory = model.fit(x=Train4D_normalize, y=TrainOneHot, validation_split=0.2, epochs=10,batch_size=500, verbose=1)\n",
        "# trainHistory = model.fit(x=Train4D_normalize, y=TrainOneHot, validation_split=0.2, epochs=10, batch_size=500)"
      ]
    },
    {
      "cell_type": "code",
      "execution_count": 13,
      "metadata": {
        "colab": {
          "background_save": true
        },
        "id": "E89y23wnNzr4"
      },
      "outputs": [],
      "source": [
        "def show_trainHistory(train,validation):\n",
        "  plt.plot(trainHistory.history[train])\n",
        "  plt.plot(trainHistory.history[validation])\n",
        "  plt.title('Train History')\n",
        "  plt.ylabel(train)\n",
        "  plt.xlabel('times')\n",
        "  plt.legend(['train','validation'],loc='upper left')\n",
        "  plt.show()"
      ]
    },
    {
      "cell_type": "code",
      "execution_count": 15,
      "metadata": {
        "colab": {
          "background_save": true
        },
        "id": "_KlVVNgsOwDi",
        "outputId": "f0e73ebc-29fb-40b6-e3b3-bc3e4f47a305"
      },
      "outputs": [
        {
          "data": {
            "image/png": "[encoded data removed]",
            "text/plain": [
              "<Figure size 432x288 with 1 Axes>"
            ]
          },
          "metadata": {
            "needs_background": "light"
          },
          "output_type": "display_data"
        },
        {
          "data": {
            "image/png": "[encoded data removed]",
            "text/plain": [
              "<Figure size 432x288 with 1 Axes>"
            ]
          },
          "metadata": {
            "needs_background": "light"
          },
          "output_type": "display_data"
        }
      ],
      "source": [
        "show_trainHistory('acc','val_acc')\n",
        "show_trainHistory('loss','val_loss')"
      ]
    },
    {
      "cell_type": "code",
      "execution_count": 16,
      "metadata": {
        "colab": {
          "background_save": true
        },
        "id": "mQSpoJUUQleQ",
        "outputId": "4447b6c0-3ac5-4e84-f28d-9f1f134e3c71"
      },
      "outputs": [
        {
          "name": "stdout",
          "output_type": "stream",
          "text": [
            "10000/10000 [==============================] - 1s 148us/step\n"
          ]
        },
        {
          "data": {
            "text/plain": [
              "[0.03397061725149906, 0.9889]"
            ]
          },
          "execution_count": 16,
          "metadata": {},
          "output_type": "execute_result"
        }
      ],
      "source": [
        "scores = model.evaluate(Test4D_normalize,TestOneHot)\n",
        "scores"
      ]
    },
    {
      "cell_type": "code",
      "execution_count": 17,
      "metadata": {
        "colab": {
          "background_save": true
        },
        "id": "PZuk1r4iSZY7",
        "outputId": "f5022b93-2a63-4f02-cdaf-d1ac1b1f4956"
      },
      "outputs": [
        {
          "data": {
            "text/plain": [
              "7"
            ]
          },
          "execution_count": 17,
          "metadata": {},
          "output_type": "execute_result"
        }
      ],
      "source": [
        "prediction = model.predict_classes(Test4D_normalize)\n",
        "prediction[0]"
      ]
    },
    {
      "cell_type": "code",
      "execution_count": 18,
      "metadata": {
        "colab": {
          "background_save": true
        },
        "id": "GebeKkUwSjNR"
      },
      "outputs": [
        {
          "data": {
            "image/png": "[encoded data removed]",
            "text/plain": [
              "<Figure size 144x144 with 1 Axes>"
            ]
          },
          "metadata": {
            "needs_background": "light"
          },
          "output_type": "display_data"
        }
      ],
      "source": [
        "plt_image(imgTest[0])"
      ]
    },
    {
      "cell_type": "code",
      "execution_count": 19,
      "metadata": {
        "colab": {
          "background_save": true
        },
        "id": "6XugRNbFSpER"
      },
      "outputs": [
        {
          "data": {
            "text/html": [
              "<div>\n",
              "<style scoped>\n",
              "    .dataframe tbody tr th:only-of-type {\n",
              "        vertical-align: middle;\n",
              "    }\n",
              "\n",
              "    .dataframe tbody tr th {\n",
              "        vertical-align: top;\n",
              "    }\n",
              "\n",
              "    .dataframe thead th {\n",
              "        text-align: right;\n",
              "    }\n",
              "</style>\n",
              "<table border=\"1\" class=\"dataframe\">\n",
              "  <thead>\n",
              "    <tr style=\"text-align: right;\">\n",
              "      <th>predict</th>\n",
              "      <th>0</th>\n",
              "      <th>1</th>\n",
              "      <th>2</th>\n",
              "      <th>3</th>\n",
              "      <th>4</th>\n",
              "      <th>5</th>\n",
              "      <th>6</th>\n",
              "      <th>7</th>\n",
              "      <th>8</th>\n",
              "      <th>9</th>\n",
              "    </tr>\n",
              "    <tr>\n",
              "      <th>label</th>\n",
              "      <th></th>\n",
              "      <th></th>\n",
              "      <th></th>\n",
              "      <th></th>\n",
              "      <th></th>\n",
              "      <th></th>\n",
              "      <th></th>\n",
              "      <th></th>\n",
              "      <th></th>\n",
              "      <th></th>\n",
              "    </tr>\n",
              "  </thead>\n",
              "  <tbody>\n",
              "    <tr>\n",
              "      <th>0</th>\n",
              "      <td>972</td>\n",
              "      <td>1</td>\n",
              "      <td>1</td>\n",
              "      <td>1</td>\n",
              "      <td>0</td>\n",
              "      <td>1</td>\n",
              "      <td>2</td>\n",
              "      <td>0</td>\n",
              "      <td>2</td>\n",
              "      <td>0</td>\n",
              "    </tr>\n",
              "    <tr>\n",
              "      <th>1</th>\n",
              "      <td>0</td>\n",
              "      <td>1132</td>\n",
              "      <td>1</td>\n",
              "      <td>1</td>\n",
              "      <td>0</td>\n",
              "      <td>0</td>\n",
              "      <td>0</td>\n",
              "      <td>0</td>\n",
              "      <td>1</td>\n",
              "      <td>0</td>\n",
              "    </tr>\n",
              "    <tr>\n",
              "      <th>2</th>\n",
              "      <td>1</td>\n",
              "      <td>1</td>\n",
              "      <td>1020</td>\n",
              "      <td>2</td>\n",
              "      <td>0</td>\n",
              "      <td>0</td>\n",
              "      <td>0</td>\n",
              "      <td>4</td>\n",
              "      <td>4</td>\n",
              "      <td>0</td>\n",
              "    </tr>\n",
              "    <tr>\n",
              "      <th>3</th>\n",
              "      <td>0</td>\n",
              "      <td>0</td>\n",
              "      <td>0</td>\n",
              "      <td>1006</td>\n",
              "      <td>0</td>\n",
              "      <td>2</td>\n",
              "      <td>0</td>\n",
              "      <td>0</td>\n",
              "      <td>2</td>\n",
              "      <td>0</td>\n",
              "    </tr>\n",
              "    <tr>\n",
              "      <th>4</th>\n",
              "      <td>0</td>\n",
              "      <td>2</td>\n",
              "      <td>0</td>\n",
              "      <td>0</td>\n",
              "      <td>969</td>\n",
              "      <td>0</td>\n",
              "      <td>1</td>\n",
              "      <td>0</td>\n",
              "      <td>2</td>\n",
              "      <td>8</td>\n",
              "    </tr>\n",
              "    <tr>\n",
              "      <th>5</th>\n",
              "      <td>2</td>\n",
              "      <td>0</td>\n",
              "      <td>0</td>\n",
              "      <td>10</td>\n",
              "      <td>0</td>\n",
              "      <td>875</td>\n",
              "      <td>4</td>\n",
              "      <td>0</td>\n",
              "      <td>1</td>\n",
              "      <td>0</td>\n",
              "    </tr>\n",
              "    <tr>\n",
              "      <th>6</th>\n",
              "      <td>5</td>\n",
              "      <td>2</td>\n",
              "      <td>0</td>\n",
              "      <td>1</td>\n",
              "      <td>1</td>\n",
              "      <td>2</td>\n",
              "      <td>946</td>\n",
              "      <td>0</td>\n",
              "      <td>1</td>\n",
              "      <td>0</td>\n",
              "    </tr>\n",
              "    <tr>\n",
              "      <th>7</th>\n",
              "      <td>1</td>\n",
              "      <td>2</td>\n",
              "      <td>5</td>\n",
              "      <td>4</td>\n",
              "      <td>0</td>\n",
              "      <td>0</td>\n",
              "      <td>0</td>\n",
              "      <td>1014</td>\n",
              "      <td>1</td>\n",
              "      <td>1</td>\n",
              "    </tr>\n",
              "    <tr>\n",
              "      <th>8</th>\n",
              "      <td>1</td>\n",
              "      <td>0</td>\n",
              "      <td>2</td>\n",
              "      <td>2</td>\n",
              "      <td>0</td>\n",
              "      <td>0</td>\n",
              "      <td>0</td>\n",
              "      <td>0</td>\n",
              "      <td>966</td>\n",
              "      <td>3</td>\n",
              "    </tr>\n",
              "    <tr>\n",
              "      <th>9</th>\n",
              "      <td>0</td>\n",
              "      <td>3</td>\n",
              "      <td>0</td>\n",
              "      <td>3</td>\n",
              "      <td>5</td>\n",
              "      <td>3</td>\n",
              "      <td>0</td>\n",
              "      <td>2</td>\n",
              "      <td>4</td>\n",
              "      <td>989</td>\n",
              "    </tr>\n",
              "  </tbody>\n",
              "</table>\n",
              "</div>"
            ],
            "text/plain": [
              "predict    0     1     2     3    4    5    6     7    8    9\n",
              "label                                                        \n",
              "0        972     1     1     1    0    1    2     0    2    0\n",
              "1          0  1132     1     1    0    0    0     0    1    0\n",
              "2          1     1  1020     2    0    0    0     4    4    0\n",
              "3          0     0     0  1006    0    2    0     0    2    0\n",
              "4          0     2     0     0  969    0    1     0    2    8\n",
              "5          2     0     0    10    0  875    4     0    1    0\n",
              "6          5     2     0     1    1    2  946     0    1    0\n",
              "7          1     2     5     4    0    0    0  1014    1    1\n",
              "8          1     0     2     2    0    0    0     0  966    3\n",
              "9          0     3     0     3    5    3    0     2    4  989"
            ]
          },
          "execution_count": 19,
          "metadata": {},
          "output_type": "execute_result"
        }
      ],
      "source": [
        "import pandas as pd\n",
        "pd.crosstab(labelTest,prediction,rownames=['label'],colnames=['predict'])"
      ]
    },
    {
      "cell_type": "code",
      "execution_count": 20,
      "metadata": {
        "colab": {
          "background_save": true
        },
        "id": "acu2UG4OTq-C"
      },
      "outputs": [
        {
          "name": "stdout",
          "output_type": "stream",
          "text": [
            "存取成功\n",
            "載入模型成功!繼續訓練模型\n"
          ]
        }
      ],
      "source": [
        "model.save('model.h5') \n",
        "\n",
        "model.save_weights(\"model_weights.h5\")\n",
        "print(\"存取成功\")\n",
        "\n",
        "try:\n",
        "    model.load_weights(\"model_weights.h5\")\n",
        "    print(\"載入模型成功!繼續訓練模型\")\n",
        "except:\n",
        "    print(\"載入模型失敗!繼續訓練新的模型\")\n"
      ]
    },
    {
      "cell_type": "code",
      "execution_count": 21,
      "metadata": {
        "colab": {
          "background_save": true
        },
        "id": "2ZAWhPZaWXDS"
      },
      "outputs": [
        {
          "name": "stdout",
          "output_type": "stream",
          "text": [
            "unzip:  cannot find or open simg.zip, simg.zip.zip or simg.zip.ZIP.\n"
          ]
        }
      ],
      "source": [
        "!unzip simg.zip"
      ]
    },
    {
      "cell_type": "code",
      "execution_count": 22,
      "metadata": {
        "colab": {
          "background_save": true
        },
        "id": "reYrxfHRUoRi"
      },
      "outputs": [],
      "source": [
        "from PIL import Image\n",
        "import numpy as np\n",
        "from keras.models import load_model\n",
        "model = load_model('model.h5')"
      ]
    },
    {
      "cell_type": "code",
      "execution_count": 23,
      "metadata": {
        "colab": {
          "background_save": true
        },
        "id": "_PINbTK0VkGq"
      },
      "outputs": [
        {
          "ename": "FileNotFoundError",
          "evalue": "[Errno 2] No such file or directory: 'simg/'",
          "output_type": "error",
          "traceback": [
            "\u001b[0;31m---------------------------------------------------------------------------\u001b[0m",
            "\u001b[0;31mFileNotFoundError\u001b[0m                         Traceback (most recent call last)",
            "\u001b[0;32m<ipython-input-23-00fd7af5db90>\u001b[0m in \u001b[0;36m<module>\u001b[0;34m\u001b[0m\n\u001b[1;32m      2\u001b[0m \u001b[0madd\u001b[0m \u001b[0;34m=\u001b[0m \u001b[0;34m[\u001b[0m\u001b[0;34m]\u001b[0m\u001b[0;34m\u001b[0m\u001b[0;34m\u001b[0m\u001b[0m\n\u001b[1;32m      3\u001b[0m \u001b[0mbigdata\u001b[0m \u001b[0;34m=\u001b[0m \u001b[0;34m\"simg/\"\u001b[0m\u001b[0;34m\u001b[0m\u001b[0;34m\u001b[0m\u001b[0m\n\u001b[0;32m----> 4\u001b[0;31m \u001b[0msave\u001b[0m\u001b[0;34m=\u001b[0m\u001b[0mos\u001b[0m\u001b[0;34m.\u001b[0m\u001b[0mlistdir\u001b[0m\u001b[0;34m(\u001b[0m\u001b[0mbigdata\u001b[0m\u001b[0;34m)\u001b[0m\u001b[0;34m\u001b[0m\u001b[0;34m\u001b[0m\u001b[0m\n\u001b[0m\u001b[1;32m      5\u001b[0m \u001b[0msave\u001b[0m\u001b[0;34m.\u001b[0m\u001b[0msort\u001b[0m\u001b[0;34m(\u001b[0m\u001b[0;34m)\u001b[0m\u001b[0;34m\u001b[0m\u001b[0;34m\u001b[0m\u001b[0m\n",
            "\u001b[0;31mFileNotFoundError\u001b[0m: [Errno 2] No such file or directory: 'simg/'"
          ]
        }
      ],
      "source": [
        "import os \n",
        "add = []\n",
        "bigdata = \"simg/\"\n",
        "save=os.listdir(bigdata)\n",
        "save.sort()"
      ]
    },
    {
      "cell_type": "code",
      "execution_count": null,
      "metadata": {
        "colab": {
          "background_save": true
        },
        "id": "lqx2dGZ7VmsZ"
      },
      "outputs": [],
      "source": [
        "for picture in save:\n",
        "  full_path = os.path.join(bigdata,picture)\n",
        "  if not os.path.isdir(full_path):\n",
        "    im = Image.open(full_path).convert('L')\n",
        "    for i in range(im.size[0]):\n",
        "      for j in range(im.size[1]):\n",
        "        if(im.getpixel((i,j))>128):  \n",
        "          im.putpixel((i,j),255) \n",
        "        else: \n",
        "          im.putpixel((i,j),0) \n",
        "    data = np.array(im.getdata()) \n",
        "    data=np.abs(data-255)\n",
        "    add.append(data) "
      ]
    },
    {
      "cell_type": "code",
      "execution_count": null,
      "metadata": {
        "colab": {
          "background_save": true
        },
        "id": "rB-FUftlWN0a"
      },
      "outputs": [],
      "source": [
        "import matplotlib.pyplot as plt\n",
        "label = [0,1,2,3,4,5,6,7,8,9] \n",
        "for i in range(10): \n",
        "    a=add[i].reshape(28,28)\n",
        "    res=model.predict(add[i].reshape(1,28,28,1))\n",
        "    idx = np.argmax(res)\n",
        "    print(\"predict=\",label[idx])\n",
        "    plt.imshow(a,cmap='binary')\n",
        "    plt.show()"
      ]
    },
    {
      "cell_type": "code",
      "execution_count": null,
      "metadata": {
        "colab": {
          "background_save": true
        },
        "id": "dM0GorUvbipr"
      },
      "outputs": [],
      "source": []
    }
  ],
  "metadata": {
    "accelerator": "TPU",
    "colab": {
      "collapsed_sections": [],
      "name": "CNN辨識手寫數字.ipynb",
      "provenance": []
    },
    "kernelspec": {
      "display_name": "Python 3",
      "language": "python",
      "name": "python3"
    }
  },
  "nbformat": 4,
  "nbformat_minor": 0
}
